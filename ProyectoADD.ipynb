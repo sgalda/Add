{
  "nbformat": 4,
  "nbformat_minor": 0,
  "metadata": {
    "colab": {
      "provenance": [],
      "authorship_tag": "ABX9TyMIQZzp2ABUgbDdhX+erjor",
      "include_colab_link": true
    },
    "kernelspec": {
      "name": "python3",
      "display_name": "Python 3"
    },
    "language_info": {
      "name": "python"
    }
  },
  "cells": [
    {
      "cell_type": "markdown",
      "metadata": {
        "id": "view-in-github",
        "colab_type": "text"
      },
      "source": [
        "<a href=\"https://colab.research.google.com/github/sgalda/Add/blob/Rama1/ProyectoADD.ipynb\" target=\"_parent\"><img src=\"https://colab.research.google.com/assets/colab-badge.svg\" alt=\"Open In Colab\"/></a>"
      ]
    },
    {
      "cell_type": "markdown",
      "source": [
        "\n",
        "**Análisis Preliminar y Hallazgos de la Primera Semana de Investigación**\n"
      ],
      "metadata": {
        "id": "NVnd8PcmMG51"
      }
    },
    {
      "cell_type": "markdown",
      "source": [
        "preparación para los pasos de análisis y visualización de datos"
      ],
      "metadata": {
        "id": "GdJerpZXV1Dz"
      }
    },
    {
      "cell_type": "code",
      "source": [
        "import pandas as pd\n",
        "import matplotlib.pyplot as plt\n",
        "import seaborn as sns\n",
        "\n",
        "# Asegúrate de proporcionar el camino correcto al archivo CSV\n",
        "df = pd.read_csv('/content/EEG.machinelearing_data_BRMH (1).csv')"
      ],
      "metadata": {
        "id": "fMrykXgPMH-L"
      },
      "execution_count": 2,
      "outputs": []
    },
    {
      "cell_type": "markdown",
      "source": [
        "Inspección de los datos en un DataFrame de Pandas"
      ],
      "metadata": {
        "id": "UpwdxezTMHfk"
      }
    },
    {
      "cell_type": "code",
      "source": [
        "# Muestra las primeras 5 filas de datos\n",
        "print(df.head())\n"
      ],
      "metadata": {
        "colab": {
          "base_uri": "https://localhost:8080/"
        },
        "id": "oXaFGTjFNThm",
        "outputId": "cc0eb364-a038-4c57-d9ea-7b1427fbc7f4"
      },
      "execution_count": 3,
      "outputs": [
        {
          "output_type": "stream",
          "name": "stdout",
          "text": [
            "   no. sex   age    eeg.date  education     IQ       main.disorder  \\\n",
            "0    1   M  57.0   2012.8.30        NaN    NaN  Addictive disorder   \n",
            "1    2   M  37.0    2012.9.6        6.0  120.0  Addictive disorder   \n",
            "2    3   M  32.0   2012.9.10       16.0  113.0  Addictive disorder   \n",
            "3    4   M  35.0   2012.10.8       18.0  126.0  Addictive disorder   \n",
            "4    5   M  36.0  2012.10.18       16.0  112.0  Addictive disorder   \n",
            "\n",
            "      specific.disorder  AB.A.delta.a.FP1  AB.A.delta.b.FP2  ...  \\\n",
            "0  Alcohol use disorder         35.998557         21.717375  ...   \n",
            "1  Alcohol use disorder         13.425118         11.002916  ...   \n",
            "2  Alcohol use disorder         29.941780         27.544684  ...   \n",
            "3  Alcohol use disorder         21.496226         21.846832  ...   \n",
            "4  Alcohol use disorder         37.775667         33.607679  ...   \n",
            "\n",
            "   COH.F.gamma.o.Pz.p.P4  COH.F.gamma.o.Pz.q.T6  COH.F.gamma.o.Pz.r.O1  \\\n",
            "0              55.989192              16.739679              23.452271   \n",
            "1              45.595619              17.510824              26.777368   \n",
            "2              99.475453              70.654171              39.131547   \n",
            "3              59.986561              63.822201              36.478254   \n",
            "4              61.462720              59.166097              51.465531   \n",
            "\n",
            "   COH.F.gamma.o.Pz.s.O2  COH.F.gamma.p.P4.q.T6  COH.F.gamma.p.P4.r.O1  \\\n",
            "0              45.678820              30.167520              16.918761   \n",
            "1              28.201062              57.108861              32.375401   \n",
            "2              69.920996              71.063644              38.534505   \n",
            "3              47.117006              84.658376              24.724096   \n",
            "4              58.635415              80.685608              62.138436   \n",
            "\n",
            "   COH.F.gamma.p.P4.s.O2  COH.F.gamma.q.T6.r.O1  COH.F.gamma.q.T6.s.O2  \\\n",
            "0              48.850427               9.422630              34.507082   \n",
            "1              60.351749              13.900981              57.831848   \n",
            "2              69.908764              27.180532              64.803155   \n",
            "3              50.299349              35.319695              79.822944   \n",
            "4              75.888749              61.003944              87.455509   \n",
            "\n",
            "   COH.F.gamma.r.O1.s.O2  \n",
            "0              28.613029  \n",
            "1              43.463261  \n",
            "2              31.485799  \n",
            "3              41.141873  \n",
            "4              70.531662  \n",
            "\n",
            "[5 rows x 1149 columns]\n"
          ]
        }
      ]
    },
    {
      "cell_type": "code",
      "source": [
        "# Muestra información sobre las columnas\n",
        "print(df.info())"
      ],
      "metadata": {
        "colab": {
          "base_uri": "https://localhost:8080/"
        },
        "id": "V6Z8DKPEGJgH",
        "outputId": "ea76fd58-ef8c-4df5-a7c0-668e86a36fc1"
      },
      "execution_count": 4,
      "outputs": [
        {
          "output_type": "stream",
          "name": "stdout",
          "text": [
            "<class 'pandas.core.frame.DataFrame'>\n",
            "RangeIndex: 945 entries, 0 to 944\n",
            "Columns: 1149 entries, no. to COH.F.gamma.r.O1.s.O2\n",
            "dtypes: float64(1144), int64(1), object(4)\n",
            "memory usage: 8.3+ MB\n",
            "None\n"
          ]
        }
      ]
    },
    {
      "cell_type": "code",
      "source": [
        "\n",
        "# Muestra estadísticas descriptivas\n",
        "print(df.describe())"
      ],
      "metadata": {
        "colab": {
          "base_uri": "https://localhost:8080/"
        },
        "id": "bk9-8BK7GJv1",
        "outputId": "b0277dbf-2241-49ab-877a-000d0ebb0403"
      },
      "execution_count": 5,
      "outputs": [
        {
          "output_type": "stream",
          "name": "stdout",
          "text": [
            "              no.         age   education          IQ  AB.A.delta.a.FP1  \\\n",
            "count  945.000000  945.000000  930.000000  932.000000        945.000000   \n",
            "mean   473.000000   30.594804   13.438710  101.580472         20.182936   \n",
            "std    272.942302   11.781592    2.550461   17.022414         11.282022   \n",
            "min      1.000000   18.000000    0.000000   49.000000          3.272260   \n",
            "25%    237.000000   21.730000   12.000000   91.000000         12.784872   \n",
            "50%    473.000000   26.150000   13.000000  102.000000         17.065286   \n",
            "75%    709.000000   35.450000   16.000000  114.000000         24.492760   \n",
            "max    945.000000   71.880000   20.000000  145.000000         92.826192   \n",
            "\n",
            "       AB.A.delta.b.FP2  AB.A.delta.c.F7  AB.A.delta.d.F3  AB.A.delta.e.Fz  \\\n",
            "count        945.000000       945.000000       945.000000       945.000000   \n",
            "mean          21.177584        17.749553        18.901698        20.447079   \n",
            "std           12.230662        10.003598         9.079482         9.742912   \n",
            "min            3.244199         3.050507         3.412618         5.066593   \n",
            "25%           13.019269        11.134327        12.460586        13.548645   \n",
            "50%           17.838251        15.541469        16.733004        18.065276   \n",
            "75%           25.654394        21.623961        23.347900        25.573096   \n",
            "max          101.515687        91.373456        82.544167       101.566662   \n",
            "\n",
            "       AB.A.delta.f.F4  ...  COH.F.gamma.o.Pz.p.P4  COH.F.gamma.o.Pz.q.T6  \\\n",
            "count       945.000000  ...             945.000000             945.000000   \n",
            "mean         19.490329  ...              75.889633              55.049113   \n",
            "std           9.252500  ...              15.861641              19.541956   \n",
            "min           4.048931  ...              12.611954               0.519048   \n",
            "25%          12.637717  ...              68.014443              41.607506   \n",
            "50%          17.432568  ...              78.647712              55.158858   \n",
            "75%          23.956748  ...              87.398387              69.740640   \n",
            "max          77.197502  ...              99.678649             100.000000   \n",
            "\n",
            "       COH.F.gamma.o.Pz.r.O1  COH.F.gamma.o.Pz.s.O2  COH.F.gamma.p.P4.q.T6  \\\n",
            "count             945.000000             945.000000             945.000000   \n",
            "mean               56.959796              60.739169              69.829254   \n",
            "std                18.326785              18.052887              17.725321   \n",
            "min                 6.926792               0.708008               2.421748   \n",
            "25%                43.682444              48.374883              58.937785   \n",
            "50%                56.657348              61.257972              72.298636   \n",
            "75%                70.649245              73.979100              83.066877   \n",
            "max                99.307895             100.000000              99.581629   \n",
            "\n",
            "       COH.F.gamma.p.P4.r.O1  COH.F.gamma.p.P4.s.O2  COH.F.gamma.q.T6.r.O1  \\\n",
            "count             945.000000             945.000000             945.000000   \n",
            "mean               47.862489              66.832798              39.301406   \n",
            "std                19.685722              17.028701              20.790933   \n",
            "min                 0.036664               1.032207               1.228502   \n",
            "25%                32.581046              55.872070              22.049743   \n",
            "50%                45.719426              68.238375              36.549938   \n",
            "75%                62.081839              79.192418              54.169209   \n",
            "max                98.720067              99.650154              98.413320   \n",
            "\n",
            "       COH.F.gamma.q.T6.s.O2  COH.F.gamma.r.O1.s.O2  \n",
            "count             945.000000             945.000000  \n",
            "mean               66.153213              57.056207  \n",
            "std                18.088548              19.600107  \n",
            "min                 0.363268               3.988805  \n",
            "25%                54.710605              43.955229  \n",
            "50%                67.988937              57.515871  \n",
            "75%                79.527764              71.626382  \n",
            "max               100.000000              99.287092  \n",
            "\n",
            "[8 rows x 1145 columns]\n"
          ]
        }
      ]
    }
  ]
}